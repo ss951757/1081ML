{
 "cells": [
  {
   "cell_type": "code",
   "execution_count": 1,
   "metadata": {},
   "outputs": [
    {
     "name": "stdout",
     "output_type": "stream",
     "text": [
      "輸入身高(公分)：177\n",
      "輸入體重(公斤)：88\n",
      "BMI值為28.09，輕度肥胖\n"
     ]
    }
   ],
   "source": [
    "Height = input(\"輸入身高(公分)：\")\n",
    "Weight = input(\"輸入體重(公斤)：\")\n",
    "BMI = float(Weight) / (float(Height)/100)**2\n",
    "if (BMI < 18.5):\n",
    "        print(\"BMI值為%.2f，體重過輕\" % BMI)\n",
    "elif (18.6 <= BMI and BMI < 24):\n",
    "        print(\"BMI值為%.2f，正常範圍\" % BMI)\n",
    "elif (24 <= BMI and BMI < 27):\n",
    "        print(\"BMI值為%.2f，稍重\" % BMI)\n",
    "elif (27 <= BMI and BMI < 30):\n",
    "        print(\"BMI值為%.2f，輕度肥胖\" % BMI)\n",
    "elif (30 <= BMI and BMI < 35):\n",
    "        print(\"BMI值為%.2f，中度肥胖\" % BMI)\n",
    "else:\n",
    "        print(\"BMI值為%.2f，重度肥胖\" % BMI)"
   ]
  },
  {
   "cell_type": "code",
   "execution_count": 2,
   "metadata": {},
   "outputs": [
    {
     "name": "stdout",
     "output_type": "stream",
     "text": [
      "輸入西元年份：1988\n",
      "閏年\n"
     ]
    }
   ],
   "source": [
    "Year = input(\"輸入西元年份：\")\n",
    "if ( int(Year) % 400 == 0) :\n",
    "        print(\"閏年\")\n",
    "elif( int(Year) % 100 == 0) :\n",
    "        print(\"平年\")\n",
    "elif ( int(Year) % 4 == 0) :\n",
    "        print(\"閏年\")\n",
    "else :\n",
    "        print(\"平年\")"
   ]
  },
  {
   "cell_type": "code",
   "execution_count": null,
   "metadata": {},
   "outputs": [
    {
     "name": "stdout",
     "output_type": "stream",
     "text": [
      "請輸入一個日期(8位):19880832\n",
      "你輸入的19880832不是有效日期,請重新輸入:\n",
      "請輸入一個日期(8位):19880821\n",
      "你輸入的19880821是有效日期\n",
      "==============================\n"
     ]
    }
   ],
   "source": [
    "pingnian_month = [0, 31, 28, 31, 30, 31, 30, 31, 31, 30, 31, 30, 31]\n",
    "runnian_month = [0, 31, 29, 31, 30, 31, 30, 31, 31, 30, 31, 30, 31]\n",
    "\n",
    "while True:\n",
    "    date = input(\"請輸入一個日期(8位):\")\n",
    "    if date == \"QUIT\":\n",
    "        break\n",
    "    if len(date) != 8 and not date.isdigit():\n",
    "        print(\"请輸入一個日期(8位):\")\n",
    "        continue\n",
    "    else:\n",
    "        year = int(date[0:4])  \n",
    "        month = int(date[4:6]) \n",
    "        day = int(date[6:]) \n",
    "\n",
    "        isRunNian = False\n",
    "        \n",
    "        if year % 4 == 0 and year % 100 != 0 and year % 400 == 0:\n",
    "            isRunNian = True\n",
    "\n",
    "        if month < 1 or month > 12:  \n",
    "            print(\"你輸入的%s不是有效日期,請重新輸入:\" % month)\n",
    "            continue\n",
    "        if isRunNian:\n",
    "            if day < 1 or day > pingnian_month[month]:\n",
    "                print(\"你輸入的%s不是有效日期,請重新輸入:\" % date)\n",
    "                continue\n",
    "        else:\n",
    "        \n",
    "            if day < 1 or day > runnian_month[month]:\n",
    "                print(\"你輸入的%s不是有效日期,請重新輸入:\" % date)\n",
    "                continue\n",
    "        print(\"你輸入的%s是有效日期\" % date)\n",
    "        print(\"=\" * 30)"
   ]
  },
  {
   "cell_type": "code",
   "execution_count": 5,
   "metadata": {},
   "outputs": [
    {
     "ename": "IndentationError",
     "evalue": "expected an indented block (<ipython-input-5-7f0419c06c7b>, line 3)",
     "output_type": "error",
     "traceback": [
      "\u001b[1;36m  File \u001b[1;32m\"<ipython-input-5-7f0419c06c7b>\"\u001b[1;36m, line \u001b[1;32m3\u001b[0m\n\u001b[1;33m    if num > 1:\u001b[0m\n\u001b[1;37m     ^\u001b[0m\n\u001b[1;31mIndentationError\u001b[0m\u001b[1;31m:\u001b[0m expected an indented block\n"
     ]
    }
   ],
   "source": [
    "def handlerNum(num):\n",
    "# 質數大於 1\n",
    "if num > 1:\n",
    "# 檢視是否有其他因子\n",
    "for i in range(2, num//2 1):\n",
    "if (num % i) == 0:\n",
    "print(num,\"不是質數\")\n",
    "break\n",
    "else:\n",
    "print(num, \"是質數\")\n",
    "# 如果輸入的數字小於或等於 1，不是質數\n",
    "else:\n",
    "print(num, \"不是質數\")\n",
    "if __name__ == '__main__':\n",
    "# 使用者輸入一個數字\n",
    "num = int(input(\"請輸入一個數字: \"))\n",
    "# 呼叫函式處理方法\n",
    "handlerNum(num)"
   ]
  },
  {
   "cell_type": "code",
   "execution_count": null,
   "metadata": {},
   "outputs": [],
   "source": []
  },
  {
   "cell_type": "code",
   "execution_count": null,
   "metadata": {},
   "outputs": [],
   "source": []
  },
  {
   "cell_type": "code",
   "execution_count": null,
   "metadata": {},
   "outputs": [],
   "source": []
  }
 ],
 "metadata": {
  "kernelspec": {
   "display_name": "Python 3",
   "language": "python",
   "name": "python3"
  },
  "language_info": {
   "codemirror_mode": {
    "name": "ipython",
    "version": 3
   },
   "file_extension": ".py",
   "mimetype": "text/x-python",
   "name": "python",
   "nbconvert_exporter": "python",
   "pygments_lexer": "ipython3",
   "version": "3.7.3"
  }
 },
 "nbformat": 4,
 "nbformat_minor": 2
}
