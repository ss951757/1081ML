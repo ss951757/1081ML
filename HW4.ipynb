{
 "cells": [
  {
   "cell_type": "markdown",
   "metadata": {},
   "source": [
    "# Homework4"
   ]
  },
  {
   "attachments": {},
   "cell_type": "markdown",
   "metadata": {},
   "source": [
    "1. 寫一個程式能大致畫一個人臉!"
   ]
  },
  {
   "cell_type": "code",
   "execution_count": null,
   "metadata": {},
   "outputs": [],
   "source": [
    "   "
   ]
  },
  {
   "attachments": {},
   "cell_type": "markdown",
   "metadata": {},
   "source": [
    "2. 寫一程式，讓使用者在視窗中利用滑鼠左鍵點擊 2 點，依照該 2 個對角點繪製長方形，並在視窗中顯示該長方形的邊界長及面積。"
   ]
  },
  {
   "cell_type": "code",
   "execution_count": null,
   "metadata": {},
   "outputs": [],
   "source": []
  },
  {
   "attachments": {},
   "cell_type": "markdown",
   "metadata": {},
   "source": [
    "3. 寫一程式，讓使用者在視窗中利用滑鼠左鍵點擊 3 點，依照該 3 點繪製三角形，並在視窗中顯示該三角形的邊界長及面積。"
   ]
  },
  {
   "cell_type": "code",
   "execution_count": null,
   "metadata": {},
   "outputs": [],
   "source": []
  },
  {
   "attachments": {},
   "cell_type": "markdown",
   "metadata": {},
   "source": [
    "4. 撰寫以下 2 個函式的定義：\n",
    "\n",
    "sumN(n)：回覆前 n 個自然數的總和\n",
    "\n",
    "sumNCubes(n)：回覆前 n 個自然數的 3 次方總和"
   ]
  },
  {
   "cell_type": "code",
   "execution_count": null,
   "metadata": {},
   "outputs": [],
   "source": []
  },
  {
   "attachments": {},
   "cell_type": "markdown",
   "metadata": {},
   "source": [
    "5. 撰寫一函式，功能如下：\n",
    "toNumbers(strList)：strList 是一個字串的串列，內含數值字串，例如:[\"32\", \"21\", \"56\"]，將串列中的每個項目改為數值!"
   ]
  },
  {
   "cell_type": "code",
   "execution_count": null,
   "metadata": {},
   "outputs": [],
   "source": []
  },
  {
   "attachments": {},
   "cell_type": "markdown",
   "metadata": {},
   "source": [
    "6. 撰寫一函式，功能如下：\n",
    "drawFace(center, size, win)：center 是一個點(Point)，size 是一個整數，win 是一個 GraphWin，在給定 size 後在 win 裡畫一張臉。你的函式可以畫一張簡單的笑(哭)臉，寫一個主程式能夠使用不同的參數來多次呼叫 drawFace()，以畫出許多笑臉。"
   ]
  },
  {
   "cell_type": "code",
   "execution_count": null,
   "metadata": {},
   "outputs": [],
   "source": []
  }
 ],
 "metadata": {
  "kernelspec": {
   "display_name": "Python 3",
   "language": "python",
   "name": "python3"
  },
  "language_info": {
   "codemirror_mode": {
    "name": "ipython",
    "version": 3
   },
   "file_extension": ".py",
   "mimetype": "text/x-python",
   "name": "python",
   "nbconvert_exporter": "python",
   "pygments_lexer": "ipython3",
   "version": "3.7.3"
  }
 },
 "nbformat": 4,
 "nbformat_minor": 2
}
